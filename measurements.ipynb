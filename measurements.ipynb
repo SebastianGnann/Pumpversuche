{
 "cells": [
  {
   "cell_type": "code",
   "execution_count": 4,
   "id": "7469db5f-72a0-4c9e-a7f1-b13a95de4aa7",
   "metadata": {
    "tags": []
   },
   "outputs": [
    {
     "name": "stdout",
     "output_type": "stream",
     "text": [
      "measured drawdown = [0.005 0.031 0.079 0.156 0.254 0.343 0.449 0.561 0.656]\n"
     ]
    }
   ],
   "source": [
    "### create measured data ###\n",
    "\n",
    "# import all necessary Python packages\n",
    "import matplotlib.pyplot as plt\n",
    "import numpy as np\n",
    "import ipywidgets as widgets\n",
    "from contents import well_fxn_script as wf\n",
    "\n",
    "# define pumping rate and radius\n",
    "Q = 4e-3 # [m³/s]\n",
    "r = 55 # [m]\n",
    "\n",
    "# define aquifer properties\n",
    "S = 7.5e-4 # [-]\n",
    "T = 0.0023 # [m²/s]\n",
    "\n",
    "# define time vector [s]\n",
    "t_obs = np.array([110, 250, 500, 1100, 2500, 5000, 11000, 25000, 50000])\n",
    "\n",
    "# calculate u for different radial distances\n",
    "u_obs = ((r**2)*S)/(4*T*t_obs)\n",
    "\n",
    "# define tolerance range (needed for solution of well equation) \n",
    "tol = 1e-12\n",
    "\n",
    "# solve well equation (this is done by calling a function)\n",
    "s_obs = np.asarray(list(map(lambda u_obs: wf.well_fxn(u_obs,tol)*Q/(4*T*np.pi),u_obs)))\n",
    "print(\"measured drawdown = \" + str(np.round(s_obs,3)))"
   ]
  },
  {
   "cell_type": "code",
   "execution_count": null,
   "id": "194ac31c-e5aa-40c9-b3f6-ff5d6f0b8efd",
   "metadata": {},
   "outputs": [],
   "source": []
  }
 ],
 "metadata": {
  "kernelspec": {
   "display_name": "Python 3 (ipykernel)",
   "language": "python",
   "name": "python3"
  },
  "language_info": {
   "codemirror_mode": {
    "name": "ipython",
    "version": 3
   },
   "file_extension": ".py",
   "mimetype": "text/x-python",
   "name": "python",
   "nbconvert_exporter": "python",
   "pygments_lexer": "ipython3",
   "version": "3.11.5"
  }
 },
 "nbformat": 4,
 "nbformat_minor": 5
}
