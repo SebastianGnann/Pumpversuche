{
 "cells": [
  {
   "cell_type": "markdown",
   "id": "361d3484-ecd1-4170-a2f9-ca20acc758ce",
   "metadata": {},
   "source": [
    "# **Willkommen zur interaktiven Übung zum Thema \"Pumpversuche\"**\n",
    "\n",
    "**Sebastian Gnann**\n",
    "\n",
    "\n",
    "Bei Fragen und Feedback wenden Sie sich bitte an: sebastian.gnann@hydrologie.uni-freiburg.de\n",
    "\n",
    "---\n",
    "\n",
    "Diese Online-Übung basiert auf einem sogenannten Jupyter Notebook (https://jupyter.org/). \n",
    "Ein Notebook besteht aus einzelnen Zellen, die entweder Markdown-Text oder Python-Code beinhalten.\n",
    "\n",
    "Bitte führen Sie das gesamte Notebook von Anfang an aus, damit alle Python-Module und die Daten in der richtigen Reihenfolge geladen werden.\n",
    "Klicken Sie zunächst auf das Symbol \"Restart the kernel\". Dann können Sie jeden Abschnitt einzeln ausführen, indem Sie auf die entsprechende Zelle und dann auf das Symbol \"Run the selected cell and advance\" klicken (alternativ: Shift + Enter drücken). \n",
    "Sie können auch auf \"Restart the kernel and run all cells\" klicken, um das gesamte Notebook auszuführen. Dies sollte sicherstellen, dass alles in der richtigen Reihenfolge ausgeführt wird.\n",
    "\n",
    "Nun können Sie sich Stück für Stück durch die Text- und Codezellen arbeiten. \n",
    "\n",
    "Sollten Sie länger inaktiv sein, kann es vorkommen, dass das Notebook nicht mehr richtig läuft (z.B. Nachricht \"Kernel died unexpectedly\"). Starten Sie in diesem Fall das Notebook einfach neu, am besten mit \"Restart the kernel and run all cells\". Sie können dann direkt zu dem Punkt zurückkehren, an dem Sie sich befanden, und müssen sich nicht erneut durch alle Zellen klicken. Sollte das Notebook gar nicht mehr laufen, dann laden Sie bitte den gesamten Link erneut.\n",
    "\n",
    "Auf der linken Seite können Sie sich auch ein Inhaltsverzeichnis anzeigen lassen, indem Sie auf \"Table of Contents\" klicken. Das hilft beim Navigieren."
   ]
  },
  {
   "cell_type": "markdown",
   "id": "56bd87fd-ac0a-4926-b125-ec1f46668b70",
   "metadata": {},
   "source": [
    "**Die Inhalte basieren teilweise auf der folgenden Ressource**\n",
    "\n",
    "Miller, G. R. (2020). Jupyter Notebook for Computing the Well Function Using the Theis Equation, HydroShare, https://doi.org/10.4211/hs.df7f924575ab484986024f585b173e49\n",
    "\n",
    "This resource is shared under the Creative Commons Attribution CC BY. \n",
    "http://creativecommons.org/licenses/by/4.0/ "
   ]
  },
  {
   "cell_type": "markdown",
   "id": "a3ddf1fc-fad4-413c-8ce2-c71ac03f3223",
   "metadata": {},
   "source": [
    "## Inhalt\n",
    "### **Struktur der Übung**\n",
    "- Die Theis'sche Brunnengleichung\n",
    "- Auswertung eines instationären Pumpversuchs\n",
    "\n",
    "<span style=\"color:DarkRed\">\n",
    "    \n",
    "### **Lernziele**\n",
    "Sie sollten verstehen:\n",
    "- was die Theis Brunnengleichung berechnet\n",
    "- wie instationäre Pumpversuche ausgewertet werden können\n",
    "\n",
    "</span>"
   ]
  },
  {
   "cell_type": "markdown",
   "id": "524d649b-33c6-463c-9203-93f4b9e7353b",
   "metadata": {
    "tags": []
   },
   "source": [
    "## Notwendige Python Packages\n",
    "Es gibt verschieden sogenannte Packages für Python, die bestimme Funktionen ausführen. \n",
    "Manche Packages helfen beim Erstellen von Grafiken, andere erledigen bestimmte Rechenaufgaben (z.B. statistische Tests).\n",
    "Diese müssen am Anfang importiert werden. Wird das nicht gemacht, kann der nachstehende Code nicht ausgeführt werden."
   ]
  },
  {
   "cell_type": "code",
   "execution_count": 1,
   "id": "9af0c215-0ddb-44f7-af08-228ba9ac5cf4",
   "metadata": {
    "jupyter": {
     "source_hidden": true
    }
   },
   "outputs": [],
   "source": [
    "# import all necessary Python packages\n",
    "import matplotlib.pyplot as plt\n",
    "import numpy as np\n",
    "import ipywidgets as widgets\n",
    "from IPython.display import display\n",
    "from contents import well_fxn_script as wf\n",
    "\n",
    "# to suppress some warnings\n",
    "import warnings\n",
    "warnings.filterwarnings(\"ignore\", category=DeprecationWarning) "
   ]
  },
  {
   "cell_type": "markdown",
   "id": "c2ffeffb-69f3-4069-95cb-e35649f88ddf",
   "metadata": {},
   "source": [
    "## Die Theis-Gleichung\n",
    "\n",
    "## Parameter und Variablen:\n",
    "- $t$ [s] = Zeit\n",
    "- $r$ [m] = radialer Abstand zum Brunnen\n",
    "- $h$ [m] = Standrohrspiegelhöhe zur Zeit $t$\n",
    "- $h_0$ [m] = Standrohrspiegelhöhe zu Beginn der Wasserentnahme\n",
    "- $s$ [m] = Absenkung der Standrohrspiegelhöhe ($h_0 - h$)\n",
    "- $Q$ [m³/s] = Pumprate (entnommene Wassermenge pro Zeit)\n",
    "- $b$ [m] = Aquifermächtigkeit\n",
    "- $K$ [m/s] = hydraulische Leitfähigkeit\n",
    "- $T$ [m²/s] = Transmissivität (für gespannte Verhältnisse $T = bK$)\n",
    "- $S_s$ [1/m] = Spezifischer Speicherkoeffizient\n",
    "- $S$ [-] = Speicherkoeffizient (für gespannte Verhältnisse $S = bS_s$)\n",
    "\n",
    "Achtung: $t$ und $s$ unterscheiden sich von $T$ und $S$.\n",
    "\n",
    "## Theis-Gleichung\n",
    "\n",
    "Die Theis-Gleichung beschreibt die Absenkung aufgrund des Pumpens in einem gespannten Grundwasserleiter in Abhängigkeit der Aquifereigenschaften. \n",
    "Das nachstehende konzeptionelle Diagramm zeigt die allgemeine Brunnenkonfiguration und die relevanten Variablen.\n",
    "\n",
    "<img src=\"contents/theis_diagram.gif\" alt=\"theis_diagram\" width=\"400\"/>\n",
    "\n",
    "Die Theis-Gleichung ermöglicht die indirekte Bestimmung von $T$ und $S$ aus der Absenkung $s$ des Beobachtungsbrunnens. Dieser befindet sich im Abstand $r$ zum Förderbrunnen, der mit bekannter (konstanter) Förderrate $Q$ betrieben wird. \n",
    "\n",
    "Die Bestimmung der Aquifereigenschaften kann über grafische Näherungsverfahren (match-point-Verfahren) erfolgen, indem die tatsächliche Absenkungs-Zeit-Kurve mit der theoretischen Brunnenfunktion $W(u)$ verglichen werden. Früher wurde das auf Papier gemacht, hier stellen wir das ganze digital nach.\n",
    "\n",
    "Die Absenkung der Standrohrspiegelhöhe ($s = h_0 - h$) kann wie folgt berechnet werden (Theis-Gleichung):\n",
    "\n",
    "$$s = \\frac{Q}{4 \\pi T} \\int_{u}^{\\infty} \\frac{e^{-u} du}{u} = \\frac{Q}{4 \\pi T} W(u)$$\n",
    "\n",
    "wobei $u$ wie folgt definiert ist:\n",
    "\n",
    "$$u = \\frac{r^2S}{4Tt}$$\n",
    "\n",
    "\n",
    "## Quellen\n",
    "Theis, C. V. (1935). The relation between the lowering of the piezometric surface and the rate and duration of discharge of a well using ground‐water storage. Eos, Transactions American Geophysical Union, 16(2), 519-524."
   ]
  },
  {
   "cell_type": "markdown",
   "id": "b04bf805-7d24-4c20-848e-3b4023e50af6",
   "metadata": {},
   "source": [
    "## Berechnung der Absenkung mit bekannten Aquifereigenschaften\n",
    "\n",
    "Um zu verstehen, was die Theis-Gleichung macht, können wir Aquifereigenschaften definieren und die Gleichung lösen.\n",
    "\n",
    "Wir nehmen folgende Werte an\n",
    "- $S_s$ = 1.0e-7 1/m\n",
    "- $K$ = 4.0e-5 m/s\n",
    "- $b$ = 100.0 m\n",
    "\n",
    "Daraus ergeben sich\n",
    "- $S = bS_s$ = 100 m 1.0e-5 1/m = 1.0e-5\n",
    "- $T = bK$ = 100 m 4.0e-5 m/s = 4.0e-3 m²/s\n",
    "\n",
    "Die Pumprate ist $Q$ = 0.1 m³/s.\n",
    "\n",
    "Im folgenden schauen wir uns den zeitlichen Verlauf an drei verschiedenen Abständen $r_1$, $r_2$ und $r_3$ an.\n",
    "Beide Axen werden logarithmisch angezeigt.\n",
    "\n",
    "<span style=\"color:Indigo\">**Frage**: *Wie hängt die Absenkkurve vom Radius ab?*</span>\n"
   ]
  },
  {
   "cell_type": "code",
   "execution_count": 2,
   "id": "b74cae87-38ed-4637-a725-c1dacd0da9bf",
   "metadata": {
    "jupyter": {
     "source_hidden": true
    }
   },
   "outputs": [
    {
     "data": {
      "image/png": "[encoded data removed]",
      "text/plain": [
       "<Figure size 600x300 with 1 Axes>"
      ]
     },
     "metadata": {},
     "output_type": "display_data"
    }
   ],
   "source": [
    "# calculate solution to Theis equation and visualize it\n",
    "\n",
    "# define aquifer properties\n",
    "S = 1.0e-5 # [-]\n",
    "T = 4.0e-3 # [m²/s]\n",
    "Q = 0.1 # [m³/s]\n",
    "\n",
    "# define three radial distances [m]\n",
    "r1 = 10  \n",
    "r2 = 50 \n",
    "r3 = 100 \n",
    "\n",
    "# define time vector [s]\n",
    "t = np.arange(10,3600*10,10) \n",
    "\n",
    "# calculate u for different radial distances\n",
    "u1 = ((r1**2)*S)/(4*T*t)\n",
    "u2 = ((r2**2)*S)/(4*T*t)\n",
    "u3 = ((r3**2)*S)/(4*T*t)\n",
    "\n",
    "# define tolerance range (needed for solution of well equation) \n",
    "tol = 1e-12\n",
    "\n",
    "# solve well equation (this is done by calling a function)\n",
    "from contents import well_fxn_script as wf\n",
    "\n",
    "s_r1 = np.asarray(list(map(lambda u1: wf.well_fxn(u1,tol)*Q/(4*T*np.pi),u1)))\n",
    "s_r2 = np.asarray(list(map(lambda u2: wf.well_fxn(u2,tol)*Q/(4*T*np.pi),u2)))\n",
    "s_r3 = np.asarray(list(map(lambda u3: wf.well_fxn(u3,tol)*Q/(4*T*np.pi),u3)))\n",
    "\n",
    "# visualize results\n",
    "# also note that we look at a double log scale\n",
    "fig, ax = plt.subplots(figsize=(6, 3))\n",
    "ax.plot(t, s_r1, '-', c='darkred', label='r=10m')\n",
    "ax.plot(t, s_r2, '-', c='orangered', label='r=50m')\n",
    "ax.plot(t, s_r3, '-', c='lightsalmon', label='r=100m')\n",
    "ax.set_xlabel('Zeit [s]')\n",
    "ax.set_ylabel('Absenkung [m]')\n",
    "ax.legend(loc='lower right')\n",
    "#plt.gca().invert_yaxis() # invert axis to see drawdown more intuitively\n",
    "plt.xscale(\"log\")\n",
    "plt.yscale(\"log\")\n",
    "plt.grid()\n",
    "plt.show()"
   ]
  },
  {
   "cell_type": "markdown",
   "id": "37b8502d-63ed-4674-ab9a-a08a071be5c2",
   "metadata": {},
   "source": [
    "## Auswertung eines Pumpversuches mit der Theis-Gleichung\n",
    "\n",
    "Die untere Grafik zeigt die Brunnenfunktion $W(u)$ in Abhängigkeit von $1/u$. \n",
    "Diese Funktion stellt einen idealisierten Verlauf der Absenkung dar, an die man nun reale Messdaten angleichen kann.\n",
    "Es wird häufig $1/u$ aufgetragen, da $1/u$ direkt proportional zu $t$ ist. \n",
    "Zudem werden beide Axen meistens logarithmiert dargestellt."
   ]
  },
  {
   "cell_type": "code",
   "execution_count": 3,
   "id": "2e6b56e8-48e9-44b4-b2e2-98e6c71ab9ab",
   "metadata": {
    "jupyter": {
     "source_hidden": true
    },
    "tags": []
   },
   "outputs": [
    {
     "data": {
      "image/png": "[encoded data removed]",
      "text/plain": [
       "<Figure size 600x300 with 1 Axes>"
      ]
     },
     "metadata": {},
     "output_type": "display_data"
    }
   ],
   "source": [
    "# calculate and plot Theis well function\n",
    "\n",
    "# define values for 1/u\n",
    "u = 1/np.arange(0.1,10000,0.1)\n",
    "\n",
    "# define tolerance range (needed for solution of well equation) \n",
    "tol = 1e-12\n",
    "\n",
    "# solve well equation (this is done by calling a function)\n",
    "W = list(map(lambda u: wf.well_fxn(u,tol),u))\n",
    "\n",
    "# visualize results\n",
    "#  note that we look at a double log scale\n",
    "fig, ax = plt.subplots(figsize=(6, 3))\n",
    "ax.plot(1/u, W, '-', c='black', label='Theis Brunnengleichung')\n",
    "ax.set_xlabel('1/u [-]')\n",
    "ax.set_ylabel('W(u) [-]')\n",
    "ax.set_xscale(\"log\")\n",
    "ax.set_yscale(\"log\")\n",
    "ax.set_xlim([0.1, 10000])\n",
    "ax.set_ylim([0.01, 10])\n",
    "#ax.legend(loc='lower right')\n",
    "ax.legend(bbox_to_anchor=(1.05, 1.0), loc='upper left')\n",
    "ax.grid()\n",
    "plt.show()"
   ]
  },
  {
   "cell_type": "markdown",
   "id": "ba9f8129-edb0-4662-a141-f71fc8e144d6",
   "metadata": {},
   "source": [
    "## Angleichung von Messdaten an Theis Brunnenfunktion\n",
    "Um einen Pumpversuch auszuwerten, können wir nun die Theis-Brunnenfunktion an die gemessenen Daten angleichen.\n",
    "Traditionell wurde das von Hand gemacht, indem ein durchsichtiges Blatt mit den Messdaten auf ein Blatt mit der Brunnenfunktion gelegt wurde und so lange verschoben wurde, bis eine optimale Übereinstimmung gefunden wurde. \n",
    "Hier erledigen wir das digital, aber trotzdem manuell. \n",
    "Das heißt wir verschieben eine Kurve mittels eines interaktiven Reglers (s. unten).\n",
    "\n",
    "Zuerst laden wir aber die Daten des Pumpversuchs ein. \n",
    "Diese bestehen aus der Pumprate, dem Abstand des Beobachtungsbrunnens zum Förderbrunnen, sowie der Zeit und der dazugehörigen Absenkung."
   ]
  },
  {
   "cell_type": "code",
   "execution_count": 4,
   "id": "e72984e1-4742-40ce-9095-c9f452a3458c",
   "metadata": {
    "jupyter": {
     "source_hidden": true
    },
    "tags": []
   },
   "outputs": [
    {
     "data": {
      "image/png": "[encoded data removed]",
      "text/plain": [
       "<Figure size 600x300 with 1 Axes>"
      ]
     },
     "metadata": {},
     "output_type": "display_data"
    }
   ],
   "source": [
    "# load data from pumping test\n",
    "\n",
    "# pumping rate and radius\n",
    "Q = 4e-3 # [m³/s]\n",
    "r = 55 # [m]\n",
    "\n",
    "# time and drawdown\n",
    "t_obs = np.array([110, 250, 500, 1100, 2500, 5000, 11000, 25000, 50000]) # [s]\n",
    "s_obs = np.array([0.005, 0.031, 0.079, 0.156, 0.254, 0.343, 0.449, 0.561, 0.656]) # [m]\n",
    "\n",
    "# visualize data\n",
    "fig, ax = plt.subplots(figsize=(6, 3))\n",
    "ax.plot(t_obs, s_obs, 'o--', c='darkred', label='Gemessene Absenkkurve')\n",
    "ax.set_xlabel('t [s]')\n",
    "ax.set_ylabel('s [m]')\n",
    "ax.set_xscale(\"log\")\n",
    "ax.set_yscale(\"log\")\n",
    "ax.set_xlim([10, 100000])\n",
    "ax.set_ylim([0.001, 10])\n",
    "ax.legend(bbox_to_anchor=(1.05, 1.0), loc='upper left')\n",
    "ax.grid()    "
   ]
  },
  {
   "cell_type": "markdown",
   "id": "942c2bd9-5157-402c-8ff2-b16863be7fe8",
   "metadata": {},
   "source": [
    "## Berechnung von $T$ und $S$\n",
    "\n",
    "Wie aus den Gleichungen erkennbar ist, hängt $W(u)$ mit $s$ zusammen und $1/u$ mit $t$:\n",
    "$$ W(u) = \\frac{4 \\pi T}{Q} s $$\n",
    "$$ \\frac{1}{u} = \\frac{4T}{Sr^2} t $$ \n",
    "\n",
    "Dieser Zusammenhang ist jeweils linear und hängt nur von Konstanten ab, die sich für den jeweiligen Pumpversuch bzw. Aquifer nicht verändern.\n",
    "\n",
    "Ziel des sogenannten \"Match Point\"-Verfahrens ist es un, die gemessene Absenkkurve an die idealisierte Brunnenfunktion anzugleichen.\n",
    "Danach kann man sich die obigen Gleichungen zunutze machen und $T$ sowie $S$ berechnen. \n",
    "Der \"Match Point\" ist ein Punkt, an dem die Werte für $s$ und $t$ abgelesen werden.\n",
    "Häufig wählt man einen Punkt, der die spätere Rechnung vereinfacht, z.B. $W(u)=1$ und $1/u=1$, hier angezeigt durch die graue gestrichelte Linie.\n",
    "\n",
    "<span style=\"color:Indigo\">**Aufgabe**: *Passen Sie die gemessene Absenkkurve mithilfe der Slider an die Theis'sche Brunnenkurve an.*</span>\n"
   ]
  },
  {
   "cell_type": "code",
   "execution_count": 5,
   "id": "adbcc77d-b999-4a86-92c9-b2b5fd5d4f14",
   "metadata": {
    "jupyter": {
     "source_hidden": true
    },
    "tags": []
   },
   "outputs": [
    {
     "data": {
      "application/vnd.jupyter.widget-view+json": {
       "model_id": "483c4dbe43554574bc759a6b5d475f55",
       "version_major": 2,
       "version_minor": 0
      },
      "text/plain": [
       "interactive(children=(FloatSlider(value=1.0, description='t', max=1000.0, min=1.0, step=1.0), FloatSlider(valu…"
      ]
     },
     "metadata": {},
     "output_type": "display_data"
    }
   ],
   "source": [
    "# calculate solution to Theis equation and visualize it\n",
    "\n",
    "# define values for 1/u\n",
    "u = 1/np.arange(0.1,10000,0.1)\n",
    "\n",
    "# define tolerance range (needed for solution of well equation) \n",
    "tol = 1e-12\n",
    "\n",
    "# solve well equation (this is done by calling a function)\n",
    "W = list(map(lambda u: wf.well_fxn(u,tol),u))\n",
    "\n",
    "def f(t=1.0, s=1.0):\n",
    "    \n",
    "    # visualize results\n",
    "    # also note that we look at a double log scale\n",
    "    fig, ax = plt.subplots(figsize=(6, 3))\n",
    "    ax.axhline(y=1, color='grey', linestyle='--')\n",
    "    ax.axvline(x=1, color='grey', linestyle='--')\n",
    "    ax.plot(1/u, W, '-', c='black', label='Theis Brunnengleichung')\n",
    "    ax.plot(t_obs, s_obs, 'o--', c='grey', label='Gemessene Absenkkurve')\n",
    "    ax.plot(t_obs/t, s_obs/s, 'o--', c='darkred', label='Verschobene Absenkkurve')\n",
    "    ax.set_xlabel('1/u [-]')\n",
    "    ax.set_ylabel('W(u) [-]')\n",
    "    ax.set_xscale(\"log\")\n",
    "    ax.set_yscale(\"log\")\n",
    "    ax.set_xlim([0.1, 10000])\n",
    "    ax.set_ylim([0.01, 10])\n",
    "    ax.legend(bbox_to_anchor=(1.05, 1.0), loc='upper left')\n",
    "    ax.grid()\n",
    "    plt.show()\n",
    "\n",
    "\n",
    "widgets.interact(f, t=(1,1000.0,1.0), s=(0.01,1.0,0.01))\n",
    "\n",
    "%matplotlib inline"
   ]
  },
  {
   "cell_type": "markdown",
   "id": "33a9de8d-62ad-4e06-bf33-712fb93934af",
   "metadata": {},
   "source": [
    "## Berechnung \n",
    "Nachdem die gemessene Kurve \"optimal\" verschoben wurde (es geht in der Praxis nie ganz perfekt), erhält man je einen Wert für $t$ und $s$.\n",
    "Aus den obigen Gleichungen kann man nun $T$ und $S$ berechnen.\n",
    "Da wir unseren \"Match Point\" so gewählt haben, dass $W(u)$ und $u$ gleich 1 sind, vereinfachen sich die Gleichungen.\n",
    "\n",
    "$$ 1 = \\frac{4 \\pi T}{Q} s $$\n",
    "$$ 1 = \\frac{4T}{Sr^2} t $$ \n",
    "\n",
    "Diese können wie folgt umgestellt werden:\n",
    "\n",
    "$$ T = \\frac{Q}{4 \\pi s} $$\n",
    "$$ S = \\frac{4T}{r^2} t $$ \n",
    "\n",
    "In der oberen Gleichung gibt es nur noch eine Unbekannte, nämlich die Transmissivität $T$, die wur nun berechnen können.\n",
    "Die untere Gleichung enthält sowohl $T$ als auch den Speicherkoeffizienten $S$.\n",
    "Da wir $T$ bereits berechnet haben, können wir nun auch $S$ berechenen.\n",
    "\n",
    "Das folgende Skript macht dies automatisch, Sie müssen nur die Werte für $T$ und $S$ eingeben.\n",
    "\n",
    "<span style=\"color:Indigo\">**Aufgabe**: *Berechnen Sie mit den oben ermittelten Werten für $s$ und $t$ die Transmissivität sowie den Speicherkoeffizienten.*</span>\n"
   ]
  },
  {
   "cell_type": "code",
   "execution_count": 9,
   "id": "32363323-45a1-4a7d-be9f-57dc6e984a21",
   "metadata": {
    "jupyter": {
     "source_hidden": true
    },
    "tags": []
   },
   "outputs": [
    {
     "data": {
      "application/vnd.jupyter.widget-view+json": {
       "model_id": "71994a24784b44788abadf2303157cf4",
       "version_major": 2,
       "version_minor": 0
      },
      "text/plain": [
       "FloatText(value=0.0, description='Wert für $s$:')"
      ]
     },
     "metadata": {},
     "output_type": "display_data"
    },
    {
     "data": {
      "application/vnd.jupyter.widget-view+json": {
       "model_id": "ffd2d53374c84d14a8aa522570390957",
       "version_major": 2,
       "version_minor": 0
      },
      "text/plain": [
       "FloatText(value=0.0, description='Wer für $t$:')"
      ]
     },
     "metadata": {},
     "output_type": "display_data"
    },
    {
     "data": {
      "application/vnd.jupyter.widget-view+json": {
       "model_id": "2eee95427845490289ec47d383ff630e",
       "version_major": 2,
       "version_minor": 0
      },
      "text/plain": [
       "Button(description='Calculate', style=ButtonStyle())"
      ]
     },
     "metadata": {},
     "output_type": "display_data"
    },
    {
     "data": {
      "application/vnd.jupyter.widget-view+json": {
       "model_id": "60452b17b032452ea4a99cdbb0869886",
       "version_major": 2,
       "version_minor": 0
      },
      "text/plain": [
       "Output()"
      ]
     },
     "metadata": {},
     "output_type": "display_data"
    }
   ],
   "source": [
    "# calculate T and S by entering the estimated values for t and s\n",
    "\n",
    "def calculate_aquifer_properties(b):\n",
    "    s = float_text1.value\n",
    "    t = float_text2.value\n",
    "    T = 1 * Q/(4*np.pi*s) # calculate T\n",
    "    S = 1 * 4*T/r**2*t # calculate S\n",
    "    with output:\n",
    "        output.clear_output()  # clear previous outputs\n",
    "        print(\"T = \" + '{:.1e}'.format(T) + \" m²/s\")\n",
    "        print(\"S = \" + '{:.1e}'.format(S) + \" [-]\")\n",
    "\n",
    "# create a FloatText widget for decimal numbers\n",
    "float_text1 = widgets.FloatText(value=0.0, description='Wert für $s$:')\n",
    "\n",
    "float_text2 = widgets.FloatText(value=0.0, description='Wer für $t$:')\n",
    "\n",
    "# create button and display result\n",
    "button = widgets.Button(description=\"Calculate\")\n",
    "output = widgets.Output()\n",
    "button.on_click(calculate_aquifer_properties)\n",
    "display(float_text1, float_text2, button, output)"
   ]
  },
  {
   "cell_type": "markdown",
   "id": "362871a1-eeb2-4778-b30e-23c82208be83",
   "metadata": {},
   "source": [
    "## Einordnung der Ergebnisse\n",
    "Wir haben also mithilfe eines Pumpversuches den spezifischen Speicher und die Transmissivität berechnet.\n",
    "Diese könnten z.B. später in einem Modell benutzt werden, das die Grundwasserströmung berechnet.\n",
    "\n",
    "<span style=\"color:Indigo\">**Frage**: *Um was für einen Aquifer könnte es sich aufgrund der Transmissivität handeln, wenn wir eine Mächtigkeit von 100m annehmen?*</span>"
   ]
  },
  {
   "cell_type": "markdown",
   "id": "27b73278-8418-44d7-ab6c-57937f403e07",
   "metadata": {
    "tags": []
   },
   "source": [
    "## Schlussfolgerung\n",
    "In der Realität enstprechen nicht alle Absenkungskurven der Idealform der Theis'schen Brunnenformel. \n",
    "Dies hängt häufig damit zusammen, dass der Aquifer von Idealbedingungen abweicht, z.B. weil eine \"Infiltrationsgrenze\" wie beispielsweise ein Fluss in der Nähe ist ,der zusätzlich Wasser liefert. Solche Ausnahmen besprechen wir im Folgeteil der Vorlesung."
   ]
  },
  {
   "cell_type": "code",
   "execution_count": null,
   "id": "269bf711-bb5f-4007-8ae4-2259aab9e62e",
   "metadata": {},
   "outputs": [],
   "source": []
  }
 ],
 "metadata": {
  "kernelspec": {
   "display_name": "Python 3 (ipykernel)",
   "language": "python",
   "name": "python3"
  },
  "language_info": {
   "codemirror_mode": {
    "name": "ipython",
    "version": 3
   },
   "file_extension": ".py",
   "mimetype": "text/x-python",
   "name": "python",
   "nbconvert_exporter": "python",
   "pygments_lexer": "ipython3",
   "version": "3.11.5"
  }
 },
 "nbformat": 4,
 "nbformat_minor": 5
}
